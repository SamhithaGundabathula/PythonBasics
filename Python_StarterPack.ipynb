{
 "cells": [
  {
   "cell_type": "markdown",
   "id": "0a395de9",
   "metadata": {},
   "source": [
    "# variables"
   ]
  },
  {
   "cell_type": "markdown",
   "id": "f2bef20a",
   "metadata": {},
   "source": [
    "A Python variable is a symbolic name that is a reference or pointer to an object. Once an object is assigned to a variable, you can refer to the object by that name."
   ]
  },
  {
   "cell_type": "markdown",
   "id": "6331e6a4",
   "metadata": {},
   "source": [
    "# Assignment\n",
    "The assignment operator, denoted by the “=” symbol, is the operator that is used to assign values to variables in Python"
   ]
  },
  {
   "cell_type": "markdown",
   "id": "6ef24829",
   "metadata": {},
   "source": [
    "# Operators\n",
    "\n",
    "Operators are used to perform operations on variables and values."
   ]
  },
  {
   "cell_type": "code",
   "execution_count": 5,
   "id": "37583208",
   "metadata": {},
   "outputs": [
    {
     "name": "stdout",
     "output_type": "stream",
     "text": [
      "20\n",
      "0\n",
      "1.0\n",
      "0\n",
      "100\n"
     ]
    }
   ],
   "source": [
    "#sum of two numbers\n",
    "a = 10\n",
    "b = 10\n",
    "print(a + b) #Addition\n",
    "print(a - b) #substraction\n",
    "print(a / b) #prints Divisor\n",
    "print(a % b) #prints the reminder\n",
    "print(a * b) #multiplication"
   ]
  },
  {
   "cell_type": "markdown",
   "id": "95c96df8",
   "metadata": {},
   "source": [
    "# Reading input from user"
   ]
  },
  {
   "cell_type": "code",
   "execution_count": 7,
   "id": "69a1c0d0",
   "metadata": {},
   "outputs": [
    {
     "name": "stdout",
     "output_type": "stream",
     "text": [
      "Enter your age 23\n",
      "enter your name samhu\n",
      "My name is samhu .I am 23 years old\n"
     ]
    }
   ],
   "source": [
    "age = int(input(\"Enter your age \"))\n",
    "name = input(\"enter your name \")\n",
    "print(\"My name is\",name,\".I am\",age,\"years old\")\n",
    "\n"
   ]
  },
  {
   "cell_type": "markdown",
   "id": "f253bb72",
   "metadata": {},
   "source": [
    "# Loops and conditional statements\n"
   ]
  },
  {
   "cell_type": "code",
   "execution_count": 9,
   "id": "859b540e",
   "metadata": {},
   "outputs": [
    {
     "name": "stdout",
     "output_type": "stream",
     "text": [
      "Enter the range 2\n",
      "2\n"
     ]
    }
   ],
   "source": [
    "#print the sum of even numbers in the given range\n",
    "n = int(input(\"Enter the range \"))\n",
    "count = 0\n",
    "for i in range(1,n+1):\n",
    "    if i % 2 == 0:\n",
    "        count += i \n",
    "print(count)"
   ]
  },
  {
   "cell_type": "code",
   "execution_count": 10,
   "id": "c0079bd3",
   "metadata": {},
   "outputs": [
    {
     "name": "stdout",
     "output_type": "stream",
     "text": [
      "Enter the range 5\n",
      "6\n"
     ]
    }
   ],
   "source": [
    "n = int(input(\"Enter the range \"))\n",
    "count = 0\n",
    "i = 1\n",
    "while (i <= n):\n",
    "    if i % 2 == 0:\n",
    "        count += i \n",
    "    i += 1\n",
    "        \n",
    "print(count)"
   ]
  },
  {
   "cell_type": "markdown",
   "id": "f19f28c5",
   "metadata": {},
   "source": [
    "# Functions\n",
    "A function is a block of code which only runs when it is called.\n",
    "\n",
    "\n",
    "\n"
   ]
  },
  {
   "cell_type": "code",
   "execution_count": 14,
   "id": "c29036f3",
   "metadata": {},
   "outputs": [
    {
     "name": "stdout",
     "output_type": "stream",
     "text": [
      "My first function\n"
     ]
    }
   ],
   "source": [
    "#Creating a function\n",
    "def my_function():\n",
    "    print('My first function')\n",
    "    \n",
    "my_function() # function being called"
   ]
  },
  {
   "cell_type": "code",
   "execution_count": 16,
   "id": "7b2eb8fa",
   "metadata": {},
   "outputs": [
    {
     "name": "stdout",
     "output_type": "stream",
     "text": [
      "3\n"
     ]
    }
   ],
   "source": [
    "#passing arguments to function\n",
    "def add_function(a,b):\n",
    "    print(a + b)\n",
    "    \n",
    "add_function(1,2)"
   ]
  },
  {
   "cell_type": "code",
   "execution_count": 17,
   "id": "a220eb7f",
   "metadata": {},
   "outputs": [
    {
     "name": "stdout",
     "output_type": "stream",
     "text": [
      "3\n"
     ]
    }
   ],
   "source": [
    "#return\n",
    "def add_function(a,b):\n",
    "    return(a + b)\n",
    "    \n",
    "c = add_function(1,2)\n",
    "print(c)"
   ]
  },
  {
   "cell_type": "markdown",
   "id": "760a08b4",
   "metadata": {},
   "source": [
    "Lists : Mutable, allows duplicates, unordered\n",
    "\n",
    "Tuples : Immutable, ordered, allows duplicates\n",
    "\n",
    "Dictionery : Key Value Pairs"
   ]
  },
  {
   "cell_type": "code",
   "execution_count": 59,
   "id": "4dc19449",
   "metadata": {},
   "outputs": [
    {
     "name": "stdout",
     "output_type": "stream",
     "text": [
      "append adds element [1, 5, 3, 8, 0, 5, 4]\n",
      "copy  the copy of the list [1, 5, 3, 8, 0, 5, 4]\n",
      "Returns number of times a value repeated 2\n",
      "Adds elements of one list to another at the end of the list [1, 5, 3, 8, 0, 5, 4, 1, 2]\n",
      "Prints the index of specifies number 1\n",
      "1\n",
      "5\n",
      "[9, 1, 5, 3, 8, 0, 5, 4]\n",
      "returns reverse of given list [2, 1]\n",
      "[1]\n",
      "Sorts the list [0, 1, 3, 4, 5, 5, 8, 9]\n",
      "None\n"
     ]
    }
   ],
   "source": [
    "#Lists\n",
    "l1 = [1,5,3,8,0,5]\n",
    "l3 = [1,2]\n",
    "l1.append(4)\n",
    "print(\"append adds element\",(l1))\n",
    "\n",
    "l2 = l1.copy()\n",
    "print(\"copy  the copy of the list\",l2)\n",
    "\n",
    "print(\"Returns number of times a value repeated\",l1.count(5))\n",
    "\n",
    "l2.extend(l3)\n",
    "print(\"Adds elements of one list to another at the end of the list\",l2)\n",
    "\n",
    "print(\"Prints the index of specifies number\",l1.index(5))\n",
    "print(l1.index(5,1))\n",
    "print(l1.index(5,3))\n",
    "\n",
    "l1.insert(0,9)\n",
    "print(l1)\n",
    "\n",
    "l3.reverse()\n",
    "print(\"returns reverse of given list\", l3)\n",
    "\n",
    "\n",
    "l3.pop(0)\n",
    "print(l3)\n",
    "\n",
    "l1.sort()\n",
    "print(\"Sorts the list\", l1)\n",
    "\n",
    "print(l1.clear())\n"
   ]
  },
  {
   "cell_type": "markdown",
   "id": "6348a1ac",
   "metadata": {},
   "source": [
    "Tuples : Are immutables hence has lesser functions compared to tuples"
   ]
  },
  {
   "cell_type": "code",
   "execution_count": 63,
   "id": "2900b63a",
   "metadata": {},
   "outputs": [
    {
     "name": "stdout",
     "output_type": "stream",
     "text": [
      "5\n",
      "1\n"
     ]
    }
   ],
   "source": [
    "thistuple = (\"apple\", \"banana\", \"cherry\", 2, 4)\n",
    "print(len(thistuple))\n",
    "print(thistuple.count('apple'))"
   ]
  },
  {
   "cell_type": "code",
   "execution_count": null,
   "id": "9775fb96",
   "metadata": {},
   "outputs": [],
   "source": []
  }
 ],
 "metadata": {
  "kernelspec": {
   "display_name": "Python 3 (ipykernel)",
   "language": "python",
   "name": "python3"
  },
  "language_info": {
   "codemirror_mode": {
    "name": "ipython",
    "version": 3
   },
   "file_extension": ".py",
   "mimetype": "text/x-python",
   "name": "python",
   "nbconvert_exporter": "python",
   "pygments_lexer": "ipython3",
   "version": "3.9.7"
  },
  "widgets": {
   "application/vnd.jupyter.widget-state+json": {
    "state": {},
    "version_major": 2,
    "version_minor": 0
   }
  }
 },
 "nbformat": 4,
 "nbformat_minor": 5
}
